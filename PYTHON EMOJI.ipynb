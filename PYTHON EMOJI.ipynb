{
 "cells": [
  {
   "cell_type": "code",
   "execution_count": 62,
   "id": "dd1e9c7c",
   "metadata": {},
   "outputs": [],
   "source": [
    "import numpy as np\n",
    "import pandas as pd\n",
    "import emoji\n",
    "\n",
    "from tensorflow.keras.models import Sequential\n",
    "from tensorflow.keras.layers import Dense, Input, Dropout, SimpleRNN,LSTM, Activation\n",
    "from tensorflow.keras.utils import to_categorical\n",
    "\n",
    "import matplotlib.pyplot as plt"
   ]
  },
  {
   "cell_type": "code",
   "execution_count": 63,
   "id": "40b2d42e",
   "metadata": {},
   "outputs": [],
   "source": [
    "# reading train emoji and test emoji data which are attached in the repo\n",
    "train = pd.read_csv('train_emoji.csv',header=None)\n",
    "test = pd.read_csv('test_emoji.csv',header=None)"
   ]
  },
  {
   "cell_type": "code",
   "execution_count": 64,
   "id": "c84a0792",
   "metadata": {},
   "outputs": [
    {
     "data": {
      "text/html": [
       "<div>\n",
       "<style scoped>\n",
       "    .dataframe tbody tr th:only-of-type {\n",
       "        vertical-align: middle;\n",
       "    }\n",
       "\n",
       "    .dataframe tbody tr th {\n",
       "        vertical-align: top;\n",
       "    }\n",
       "\n",
       "    .dataframe thead th {\n",
       "        text-align: right;\n",
       "    }\n",
       "</style>\n",
       "<table border=\"1\" class=\"dataframe\">\n",
       "  <thead>\n",
       "    <tr style=\"text-align: right;\">\n",
       "      <th></th>\n",
       "      <th>0</th>\n",
       "      <th>1</th>\n",
       "      <th>2</th>\n",
       "      <th>3</th>\n",
       "    </tr>\n",
       "  </thead>\n",
       "  <tbody>\n",
       "    <tr>\n",
       "      <th>0</th>\n",
       "      <td>never talk to me again</td>\n",
       "      <td>3</td>\n",
       "      <td>NaN</td>\n",
       "      <td>NaN</td>\n",
       "    </tr>\n",
       "    <tr>\n",
       "      <th>1</th>\n",
       "      <td>I am proud of your achievements</td>\n",
       "      <td>2</td>\n",
       "      <td>NaN</td>\n",
       "      <td>NaN</td>\n",
       "    </tr>\n",
       "    <tr>\n",
       "      <th>2</th>\n",
       "      <td>It is the worst day in my life</td>\n",
       "      <td>3</td>\n",
       "      <td>NaN</td>\n",
       "      <td>NaN</td>\n",
       "    </tr>\n",
       "    <tr>\n",
       "      <th>3</th>\n",
       "      <td>Miss you so much</td>\n",
       "      <td>0</td>\n",
       "      <td>NaN</td>\n",
       "      <td>[0]</td>\n",
       "    </tr>\n",
       "    <tr>\n",
       "      <th>4</th>\n",
       "      <td>food is life</td>\n",
       "      <td>4</td>\n",
       "      <td>NaN</td>\n",
       "      <td>NaN</td>\n",
       "    </tr>\n",
       "  </tbody>\n",
       "</table>\n",
       "</div>"
      ],
      "text/plain": [
       "                                 0  1   2     3\n",
       "0           never talk to me again  3 NaN   NaN\n",
       "1  I am proud of your achievements  2 NaN   NaN\n",
       "2   It is the worst day in my life  3 NaN   NaN\n",
       "3                 Miss you so much  0 NaN   [0]\n",
       "4                     food is life  4 NaN   NaN"
      ]
     },
     "execution_count": 64,
     "metadata": {},
     "output_type": "execute_result"
    }
   ],
   "source": [
    "# Checking data by showing first 5 rows of the train data\n",
    "train.head()"
   ]
  },
  {
   "cell_type": "code",
   "execution_count": 65,
   "id": "3bbc097e",
   "metadata": {},
   "outputs": [
    {
     "data": {
      "text/html": [
       "<div>\n",
       "<style scoped>\n",
       "    .dataframe tbody tr th:only-of-type {\n",
       "        vertical-align: middle;\n",
       "    }\n",
       "\n",
       "    .dataframe tbody tr th {\n",
       "        vertical-align: top;\n",
       "    }\n",
       "\n",
       "    .dataframe thead th {\n",
       "        text-align: right;\n",
       "    }\n",
       "</style>\n",
       "<table border=\"1\" class=\"dataframe\">\n",
       "  <thead>\n",
       "    <tr style=\"text-align: right;\">\n",
       "      <th></th>\n",
       "      <th>0</th>\n",
       "      <th>1</th>\n",
       "    </tr>\n",
       "  </thead>\n",
       "  <tbody>\n",
       "    <tr>\n",
       "      <th>0</th>\n",
       "      <td>I want to eat\\t</td>\n",
       "      <td>4</td>\n",
       "    </tr>\n",
       "    <tr>\n",
       "      <th>1</th>\n",
       "      <td>he did not answer\\t</td>\n",
       "      <td>3</td>\n",
       "    </tr>\n",
       "    <tr>\n",
       "      <th>2</th>\n",
       "      <td>he got a raise\\t</td>\n",
       "      <td>2</td>\n",
       "    </tr>\n",
       "    <tr>\n",
       "      <th>3</th>\n",
       "      <td>she got me a present\\t</td>\n",
       "      <td>0</td>\n",
       "    </tr>\n",
       "    <tr>\n",
       "      <th>4</th>\n",
       "      <td>ha ha ha it was so funny\\t</td>\n",
       "      <td>2</td>\n",
       "    </tr>\n",
       "  </tbody>\n",
       "</table>\n",
       "</div>"
      ],
      "text/plain": [
       "                            0  1\n",
       "0             I want to eat\\t  4\n",
       "1         he did not answer\\t  3\n",
       "2            he got a raise\\t  2\n",
       "3      she got me a present\\t  0\n",
       "4  ha ha ha it was so funny\\t  2"
      ]
     },
     "execution_count": 65,
     "metadata": {},
     "output_type": "execute_result"
    }
   ],
   "source": [
    "# Checking data by showing first 5 rows of the test data\n",
    "test.head()"
   ]
  },
  {
   "cell_type": "code",
   "execution_count": 66,
   "id": "79c56990",
   "metadata": {},
   "outputs": [],
   "source": [
    "# Creating dictionary for some emoji's, consisting of key - number and value - emoji \n",
    "emoji_dict = { 0 : \":heart:\", 1 : \":baseball:\", 2 : \":smile:\", 3 : \":disappointed:\", 4 : \":fork_and_knife:\"}"
   ]
  },
  {
   "cell_type": "code",
   "execution_count": 67,
   "id": "2f7b0007",
   "metadata": {},
   "outputs": [
    {
     "name": "stdout",
     "output_type": "stream",
     "text": [
      "0 ❤️\n",
      "1 ⚾\n",
      "2 😄\n",
      "3 😞\n",
      "4 🍴\n"
     ]
    }
   ],
   "source": [
    "# Printing each emoji icon by emojizing each emoji\n",
    "for ix in emoji_dict.keys():\n",
    "    print (ix,end=\" \")\n",
    "    print (emoji.emojize(emoji_dict[ix], use_aliases=True))"
   ]
  },
  {
   "cell_type": "code",
   "execution_count": 68,
   "id": "a5524981",
   "metadata": {},
   "outputs": [
    {
     "name": "stdout",
     "output_type": "stream",
     "text": [
      "(132,) (132,) (56,) (56,)\n",
      "-------------------------\n",
      "never talk to me again 3\n"
     ]
    }
   ],
   "source": [
    "# Creating training and testing data\n",
    "X_train = train[0]\n",
    "Y_train = train[1]\n",
    "\n",
    "X_test = test[0]\n",
    "Y_test = test[1]\n",
    "\n",
    "print (X_train.shape, Y_train.shape, X_test.shape, Y_test.shape)\n",
    "print (\"-------------------------\")\n",
    "print (X_train[0],Y_train[0])"
   ]
  },
  {
   "cell_type": "code",
   "execution_count": 69,
   "id": "dc7eb518",
   "metadata": {},
   "outputs": [
    {
     "name": "stderr",
     "output_type": "stream",
     "text": [
      "<ipython-input-69-1de645c59088>:3: SettingWithCopyWarning: \n",
      "A value is trying to be set on a copy of a slice from a DataFrame\n",
      "\n",
      "See the caveats in the documentation: https://pandas.pydata.org/pandas-docs/stable/user_guide/indexing.html#returning-a-view-versus-a-copy\n",
      "  X_train[ix] = X_train[ix].split()\n",
      "<ipython-input-69-1de645c59088>:7: SettingWithCopyWarning: \n",
      "A value is trying to be set on a copy of a slice from a DataFrame\n",
      "\n",
      "See the caveats in the documentation: https://pandas.pydata.org/pandas-docs/stable/user_guide/indexing.html#returning-a-view-versus-a-copy\n",
      "  X_test[ix] = X_test[ix].split()\n"
     ]
    }
   ],
   "source": [
    "# Splitting the train data from sentences to words\n",
    "for ix in range(X_train.shape[0]):\n",
    "    X_train[ix] = X_train[ix].split()\n",
    "\n",
    "# Splitting the test data from sentences to words\n",
    "for ix in range(X_test.shape[0]):\n",
    "    X_test[ix] = X_test[ix].split()\n",
    "    \n",
    "# Converting labels into categorical form\n",
    "Y_train = np_utils.to_categorical(Y_train)"
   ]
  },
  {
   "cell_type": "code",
   "execution_count": 70,
   "id": "33ae9d5f",
   "metadata": {},
   "outputs": [
    {
     "name": "stdout",
     "output_type": "stream",
     "text": [
      "['never', 'talk', 'to', 'me', 'again'] [0. 0. 0. 1. 0.]\n"
     ]
    }
   ],
   "source": [
    "\n",
    "# Now checking the above conversion by printing train and test data at 0th index\n",
    "print (X_train[0],Y_train[0])"
   ]
  },
  {
   "cell_type": "code",
   "execution_count": 71,
   "id": "fe4a6ef5",
   "metadata": {},
   "outputs": [
    {
     "data": {
      "text/plain": [
       "(array([ 1,  2,  3,  4,  5,  6,  7,  8,  9, 10]),\n",
       " array([ 4,  5, 26, 35, 20, 21, 11,  5,  1,  4], dtype=int64))"
      ]
     },
     "execution_count": 71,
     "metadata": {},
     "output_type": "execute_result"
    }
   ],
   "source": [
    "# To check maximum length of sentence in training data\n",
    "np.unique(np.array([len(ix) for ix in X_train]) , return_counts=True)"
   ]
  },
  {
   "cell_type": "code",
   "execution_count": 72,
   "id": "640cb7c1",
   "metadata": {},
   "outputs": [
    {
     "data": {
      "text/plain": [
       "(array([2, 3, 4, 5, 6, 7, 8]),\n",
       " array([ 3, 12, 16, 17,  3,  4,  1], dtype=int64))"
      ]
     },
     "execution_count": 72,
     "metadata": {},
     "output_type": "execute_result"
    }
   ],
   "source": [
    "# To check maximum length of senetence in testing data\n",
    "np.unique(np.array([len(ix) for ix in X_test]) , return_counts=True)"
   ]
  },
  {
   "cell_type": "code",
   "execution_count": 73,
   "id": "a619c310",
   "metadata": {},
   "outputs": [],
   "source": [
    "embeddings_index = {}\n",
    "\n",
    "f = open('./glove.6B.50d.txt', encoding=\"utf-8\")\n",
    "for line in f:\n",
    "    values = line.split()\n",
    "    word = values[0]\n",
    "    coefs = np.asarray(values[1:], dtype='float32')\n",
    "    embeddings_index[word] = coefs\n",
    "f.close()"
   ]
  },
  {
   "cell_type": "code",
   "execution_count": 74,
   "id": "4d11ef30",
   "metadata": {},
   "outputs": [
    {
     "data": {
      "text/plain": [
       "(50,)"
      ]
     },
     "execution_count": 74,
     "metadata": {},
     "output_type": "execute_result"
    }
   ],
   "source": [
    "# Checking length of a particular word\n",
    "embeddings_index[\"i\"].shape"
   ]
  },
  {
   "cell_type": "code",
   "execution_count": 75,
   "id": "09382867",
   "metadata": {},
   "outputs": [
    {
     "data": {
      "text/plain": [
       "0.31093674898147583"
      ]
     },
     "execution_count": 75,
     "metadata": {},
     "output_type": "execute_result"
    }
   ],
   "source": [
    "from scipy import spatial\n",
    "# Checking cosine similarity of words happy and sad\n",
    "spatial.distance.cosine(embeddings_index[\"happy\"], embeddings_index[\"sad\"])"
   ]
  },
  {
   "cell_type": "code",
   "execution_count": 76,
   "id": "7ded6e56",
   "metadata": {},
   "outputs": [],
   "source": [
    "# Filling the embedding matrix\n",
    "embedding_matrix_train = np.zeros((X_train.shape[0], 10, 50))\n",
    "embedding_matrix_test = np.zeros((X_test.shape[0], 10, 50))\n",
    "\n",
    "for ix in range(X_train.shape[0]):\n",
    "    for ij in range(len(X_train[ix])):\n",
    "        embedding_matrix_train[ix][ij] = embeddings_index[X_train[ix][ij].lower()]\n",
    "        \n",
    "for ix in range(X_test.shape[0]):\n",
    "    for ij in range(len(X_test[ix])):\n",
    "        embedding_matrix_test[ix][ij] = embeddings_index[X_test[ix][ij].lower()]"
   ]
  },
  {
   "cell_type": "code",
   "execution_count": 77,
   "id": "c595ce7c",
   "metadata": {},
   "outputs": [
    {
     "name": "stdout",
     "output_type": "stream",
     "text": [
      "(132, 10, 50) (56, 10, 50)\n"
     ]
    }
   ],
   "source": [
    "print (embedding_matrix_train.shape, embedding_matrix_test.shape)"
   ]
  },
  {
   "cell_type": "code",
   "execution_count": 78,
   "id": "44b46e2f",
   "metadata": {},
   "outputs": [
    {
     "name": "stdout",
     "output_type": "stream",
     "text": [
      "Model: \"sequential_2\"\n",
      "_________________________________________________________________\n",
      " Layer (type)                Output Shape              Param #   \n",
      "=================================================================\n",
      " lstm_4 (LSTM)               (None, 10, 128)           91648     \n",
      "                                                                 \n",
      " dropout_4 (Dropout)         (None, 10, 128)           0         \n",
      "                                                                 \n",
      " lstm_5 (LSTM)               (None, 128)               131584    \n",
      "                                                                 \n",
      " dropout_5 (Dropout)         (None, 128)               0         \n",
      "                                                                 \n",
      " dense_2 (Dense)             (None, 5)                 645       \n",
      "                                                                 \n",
      " activation_2 (Activation)   (None, 5)                 0         \n",
      "                                                                 \n",
      "=================================================================\n",
      "Total params: 223,877\n",
      "Trainable params: 223,877\n",
      "Non-trainable params: 0\n",
      "_________________________________________________________________\n"
     ]
    }
   ],
   "source": [
    "# A simple LSTM network\n",
    "model = Sequential()\n",
    "model.add(LSTM(128, input_shape=(10,50), return_sequences=True))\n",
    "model.add(Dropout(0.5))\n",
    "model.add(LSTM(128, return_sequences=False))\n",
    "model.add(Dropout(0.5))\n",
    "model.add(Dense(5))\n",
    "model.add(Activation('softmax'))\n",
    "\n",
    "model.summary()"
   ]
  },
  {
   "cell_type": "code",
   "execution_count": 79,
   "id": "2690b868",
   "metadata": {},
   "outputs": [],
   "source": [
    "# Setting Loss ,Optimiser for model\n",
    "model.compile(loss='categorical_crossentropy', optimizer='adam', metrics=['accuracy'])"
   ]
  },
  {
   "cell_type": "code",
   "execution_count": 80,
   "id": "bf626ba1",
   "metadata": {},
   "outputs": [
    {
     "name": "stdout",
     "output_type": "stream",
     "text": [
      "Epoch 1/50\n",
      "5/5 [==============================] - 3s 16ms/step - loss: 1.5915 - accuracy: 0.2500\n",
      "Epoch 2/50\n",
      "5/5 [==============================] - 0s 17ms/step - loss: 1.5110 - accuracy: 0.3182\n",
      "Epoch 3/50\n",
      "5/5 [==============================] - 0s 17ms/step - loss: 1.4595 - accuracy: 0.3864\n",
      "Epoch 4/50\n",
      "5/5 [==============================] - 0s 17ms/step - loss: 1.4060 - accuracy: 0.3788\n",
      "Epoch 5/50\n",
      "5/5 [==============================] - 0s 16ms/step - loss: 1.3436 - accuracy: 0.4773\n",
      "Epoch 6/50\n",
      "5/5 [==============================] - 0s 21ms/step - loss: 1.2080 - accuracy: 0.5152\n",
      "Epoch 7/50\n",
      "5/5 [==============================] - 0s 21ms/step - loss: 1.0966 - accuracy: 0.5606\n",
      "Epoch 8/50\n",
      "5/5 [==============================] - 0s 19ms/step - loss: 0.9800 - accuracy: 0.6288\n",
      "Epoch 9/50\n",
      "5/5 [==============================] - 0s 19ms/step - loss: 0.8965 - accuracy: 0.6439\n",
      "Epoch 10/50\n",
      "5/5 [==============================] - 0s 28ms/step - loss: 0.7386 - accuracy: 0.7348\n",
      "Epoch 11/50\n",
      "5/5 [==============================] - 0s 22ms/step - loss: 0.7214 - accuracy: 0.6970\n",
      "Epoch 12/50\n",
      "5/5 [==============================] - 0s 19ms/step - loss: 0.7422 - accuracy: 0.7424\n",
      "Epoch 13/50\n",
      "5/5 [==============================] - 0s 20ms/step - loss: 0.5418 - accuracy: 0.8106\n",
      "Epoch 14/50\n",
      "5/5 [==============================] - 0s 19ms/step - loss: 0.5523 - accuracy: 0.8258\n",
      "Epoch 15/50\n",
      "5/5 [==============================] - 0s 22ms/step - loss: 0.4741 - accuracy: 0.8258\n",
      "Epoch 16/50\n",
      "5/5 [==============================] - 0s 32ms/step - loss: 0.4035 - accuracy: 0.8409\n",
      "Epoch 17/50\n",
      "5/5 [==============================] - 0s 26ms/step - loss: 0.3856 - accuracy: 0.8561\n",
      "Epoch 18/50\n",
      "5/5 [==============================] - 0s 24ms/step - loss: 0.5850 - accuracy: 0.8030\n",
      "Epoch 19/50\n",
      "5/5 [==============================] - 0s 25ms/step - loss: 0.4066 - accuracy: 0.8485\n",
      "Epoch 20/50\n",
      "5/5 [==============================] - 0s 25ms/step - loss: 0.3450 - accuracy: 0.8561\n",
      "Epoch 21/50\n",
      "5/5 [==============================] - 0s 20ms/step - loss: 0.3159 - accuracy: 0.8939\n",
      "Epoch 22/50\n",
      "5/5 [==============================] - 0s 19ms/step - loss: 0.4097 - accuracy: 0.8712\n",
      "Epoch 23/50\n",
      "5/5 [==============================] - 0s 19ms/step - loss: 0.4000 - accuracy: 0.8409\n",
      "Epoch 24/50\n",
      "5/5 [==============================] - 0s 20ms/step - loss: 0.2886 - accuracy: 0.8864\n",
      "Epoch 25/50\n",
      "5/5 [==============================] - 0s 24ms/step - loss: 0.2947 - accuracy: 0.8561\n",
      "Epoch 26/50\n",
      "5/5 [==============================] - 0s 31ms/step - loss: 0.2557 - accuracy: 0.8939\n",
      "Epoch 27/50\n",
      "5/5 [==============================] - 0s 27ms/step - loss: 0.2134 - accuracy: 0.9091\n",
      "Epoch 28/50\n",
      "5/5 [==============================] - 0s 24ms/step - loss: 0.1836 - accuracy: 0.9242\n",
      "Epoch 29/50\n",
      "5/5 [==============================] - 0s 27ms/step - loss: 0.1674 - accuracy: 0.9394\n",
      "Epoch 30/50\n",
      "5/5 [==============================] - 0s 24ms/step - loss: 0.1220 - accuracy: 0.9697\n",
      "Epoch 31/50\n",
      "5/5 [==============================] - 0s 23ms/step - loss: 0.1205 - accuracy: 0.9697\n",
      "Epoch 32/50\n",
      "5/5 [==============================] - 0s 20ms/step - loss: 0.0886 - accuracy: 0.9773\n",
      "Epoch 33/50\n",
      "5/5 [==============================] - 0s 24ms/step - loss: 0.0943 - accuracy: 0.9697\n",
      "Epoch 34/50\n",
      "5/5 [==============================] - 0s 27ms/step - loss: 0.2572 - accuracy: 0.9167\n",
      "Epoch 35/50\n",
      "5/5 [==============================] - 0s 23ms/step - loss: 0.3870 - accuracy: 0.9015\n",
      "Epoch 36/50\n",
      "5/5 [==============================] - 0s 28ms/step - loss: 0.2160 - accuracy: 0.9091\n",
      "Epoch 37/50\n",
      "5/5 [==============================] - 0s 22ms/step - loss: 0.1993 - accuracy: 0.9091\n",
      "Epoch 38/50\n",
      "5/5 [==============================] - 0s 25ms/step - loss: 0.1805 - accuracy: 0.9470\n",
      "Epoch 39/50\n",
      "5/5 [==============================] - 0s 23ms/step - loss: 0.1219 - accuracy: 0.9697\n",
      "Epoch 40/50\n",
      "5/5 [==============================] - 0s 20ms/step - loss: 0.1129 - accuracy: 0.9697\n",
      "Epoch 41/50\n",
      "5/5 [==============================] - 0s 25ms/step - loss: 0.0755 - accuracy: 0.9924\n",
      "Epoch 42/50\n",
      "5/5 [==============================] - 0s 25ms/step - loss: 0.0821 - accuracy: 0.9697\n",
      "Epoch 43/50\n",
      "5/5 [==============================] - 0s 24ms/step - loss: 0.0771 - accuracy: 0.9621\n",
      "Epoch 44/50\n",
      "5/5 [==============================] - 0s 22ms/step - loss: 0.0616 - accuracy: 0.9848\n",
      "Epoch 45/50\n",
      "5/5 [==============================] - 0s 19ms/step - loss: 0.0451 - accuracy: 0.9848\n",
      "Epoch 46/50\n",
      "5/5 [==============================] - 0s 24ms/step - loss: 0.0262 - accuracy: 1.0000\n",
      "Epoch 47/50\n",
      "5/5 [==============================] - 0s 19ms/step - loss: 0.0186 - accuracy: 1.0000\n",
      "Epoch 48/50\n",
      "5/5 [==============================] - 0s 18ms/step - loss: 0.0221 - accuracy: 1.0000\n",
      "Epoch 49/50\n",
      "5/5 [==============================] - 0s 19ms/step - loss: 0.0245 - accuracy: 0.9924\n",
      "Epoch 50/50\n",
      "5/5 [==============================] - 0s 20ms/step - loss: 0.0178 - accuracy: 1.0000\n"
     ]
    }
   ],
   "source": [
    "# Training model\n",
    "hist = model.fit(embedding_matrix_train,Y_train,\n",
    "                epochs = 50, batch_size=32,shuffle=True\n",
    "                )"
   ]
  },
  {
   "cell_type": "code",
   "execution_count": 81,
   "id": "8c12c789",
   "metadata": {},
   "outputs": [],
   "source": [
    "y_predict = np.argmax(model.predict(embedding_matrix_test), axis=-1)"
   ]
  },
  {
   "cell_type": "code",
   "execution_count": 82,
   "id": "d4c2d6cd",
   "metadata": {},
   "outputs": [
    {
     "data": {
      "text/plain": [
       "0.6071428571428571"
      ]
     },
     "execution_count": 82,
     "metadata": {},
     "output_type": "execute_result"
    }
   ],
   "source": [
    "# Calculating accuracy / score  of the model\n",
    "float(sum(y_predict==Y_test))/embedding_matrix_test.shape[0]"
   ]
  },
  {
   "cell_type": "code",
   "execution_count": 83,
   "id": "8702d87a",
   "metadata": {},
   "outputs": [
    {
     "name": "stdout",
     "output_type": "stream",
     "text": [
      "2\n",
      "['he', 'got', 'a', 'raise'] 😞 😄\n",
      "3\n",
      "['she', 'got', 'me', 'a', 'present'] 😄 ❤️\n",
      "5\n",
      "['he', 'is', 'a', 'good', 'friend'] 😄 ❤️\n",
      "6\n",
      "['I', 'am', 'upset'] 😞 ❤️\n",
      "7\n",
      "['We', 'had', 'such', 'a', 'lovely', 'dinner', 'tonight'] 😄 ❤️\n",
      "11\n",
      "['work', 'is', 'hard'] 😄 😞\n",
      "12\n",
      "['This', 'girl', 'is', 'messing', 'with', 'me'] ❤️ 😞\n",
      "13\n",
      "['are', 'you', 'serious', 'ha', 'ha'] 😞 😄\n",
      "16\n",
      "['work', 'is', 'horrible'] 😄 😞\n",
      "21\n",
      "['you', 'brighten', 'my', 'day'] ❤️ 😄\n",
      "23\n",
      "['she', 'is', 'a', 'bully'] ❤️ 😞\n",
      "26\n",
      "['I', 'worked', 'during', 'my', 'birthday'] 😄 😞\n",
      "28\n",
      "['enjoy', 'your', 'break'] 😞 😄\n",
      "29\n",
      "['valentine', 'day', 'is', 'near'] 😄 ❤️\n",
      "37\n",
      "['I', 'am', 'starving'] 😞 🍴\n",
      "40\n",
      "['I', 'will', 'go', 'dance'] ⚾ 😄\n",
      "41\n",
      "['I', 'like', 'your', 'jacket'] ❤️ 😄\n",
      "48\n",
      "['I', 'want', 'to', 'joke'] 😞 😄\n",
      "49\n",
      "['go', 'away'] ⚾ 😞\n",
      "50\n",
      "['yesterday', 'we', 'lost', 'again'] ⚾ 😞\n",
      "54\n",
      "['You', 'totally', 'deserve', 'this', 'prize'] 😞 😄\n",
      "55\n",
      "['I', 'did', 'not', 'have', 'breakfast'] 🍴 😞\n"
     ]
    }
   ],
   "source": [
    "# Printing the sentences with the predicted and the labelled emoji\n",
    "for ix in range(embedding_matrix_test.shape[0]):\n",
    "    \n",
    "    if y_predict[ix] != Y_test[ix]:\n",
    "        print(ix)\n",
    "        print (test[0][ix],end=\" \")\n",
    "        print (emoji.emojize(emoji_dict[y_predict[ix]], use_aliases=True),end=\" \")\n",
    "        print (emoji.emojize(emoji_dict[Y_test[ix]], use_aliases=True))"
   ]
  },
  {
   "cell_type": "code",
   "execution_count": null,
   "id": "3f832e36",
   "metadata": {},
   "outputs": [],
   "source": []
  },
  {
   "cell_type": "code",
   "execution_count": null,
   "id": "fac1159e",
   "metadata": {},
   "outputs": [],
   "source": []
  }
 ],
 "metadata": {
  "kernelspec": {
   "display_name": "Python 3",
   "language": "python",
   "name": "python3"
  },
  "language_info": {
   "codemirror_mode": {
    "name": "ipython",
    "version": 3
   },
   "file_extension": ".py",
   "mimetype": "text/x-python",
   "name": "python",
   "nbconvert_exporter": "python",
   "pygments_lexer": "ipython3",
   "version": "3.8.8"
  }
 },
 "nbformat": 4,
 "nbformat_minor": 5
}
